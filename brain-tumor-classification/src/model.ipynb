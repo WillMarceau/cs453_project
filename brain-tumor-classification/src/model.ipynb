{
 "cells": [
  {
   "cell_type": "markdown",
   "metadata": {},
   "source": [
    "Importing necessary libraries"
   ]
  },
  {
   "cell_type": "code",
   "execution_count": 1,
   "metadata": {},
   "outputs": [
    {
     "name": "stdout",
     "output_type": "stream",
     "text": [
      "Class mapping: {'glioma_tumor': 0, 'meningioma_tumor': 1, 'no_tumor': 2, 'pituitary_tumor': 3}\n",
      "Batch image shape: torch.Size([32, 3, 224, 224])\n",
      "Batch labels: tensor([0, 0, 1, 0, 1, 1, 0, 1, 1, 1, 3, 1, 1, 1, 0, 0, 1, 2, 3, 3, 3, 1, 2, 1,\n",
      "        3, 2, 0, 1, 3, 0, 1, 3])\n",
      "Training class distribution: Counter({3: 827, 0: 826, 1: 822, 2: 395})\n",
      "Testing class distribution: Counter({1: 58, 0: 50, 3: 37, 2: 27})\n",
      "Validation class distribution: Counter({1: 57, 0: 50, 3: 37, 2: 26})\n"
     ]
    }
   ],
   "source": [
    "if __name__ == '__main__':\n",
    "    import torch\n",
    "    import torchvision\n",
    "    import torchvision.transforms as transforms\n",
    "    from torch.utils.data import DataLoader\n",
    "    from torchvision import datasets\n",
    "    from torchvision.transforms import ToTensor\n",
    "    import torch.nn as nn\n",
    "    import torch.nn.functional as F\n",
    "    import torch.optim as optim\n",
    "    import matplotlib.pyplot as plt\n",
    "    import numpy as np\n",
    "    from collections import Counter\n",
    "    \n",
    "\n",
    "     # Define transformations (resize and convert to tensor)\n",
    "    transform = transforms.Compose([\n",
    "    transforms.Resize((224, 224)),  # Resize to 224x224\n",
    "    transforms.ToTensor(),  # Convert to tensor\n",
    "    transforms.Normalize(mean=[0.5, 0.5, 0.5], std=[0.5, 0.5, 0.5])  # Normalize\n",
    "    ])\n",
    "\n",
    "    # Define dataset directories\n",
    "    train_dir = \"../data/Training\"\n",
    "    test_dir = \"../data/Testing\"\n",
    "    valid_dir = \"../data/Validation\"\n",
    "\n",
    "    # Load datasets\n",
    "    train_dataset = datasets.ImageFolder(root=train_dir, transform=transform)\n",
    "    test_dataset = datasets.ImageFolder(root=test_dir, transform=transform)\n",
    "    valid_dataset = datasets.ImageFolder(root=valid_dir, transform=transform)\n",
    "\n",
    "    # Create DataLoaders\n",
    "    train_loader = DataLoader(train_dataset, batch_size=32, shuffle=True)\n",
    "    test_loader = DataLoader(test_dataset, batch_size=32, shuffle=False)\n",
    "    valid_loader = DataLoader(valid_dataset, batch_size=32, shuffle=False)\n",
    "\n",
    "    # Print class-to-index mapping\n",
    "    print(\"Class mapping:\", train_dataset.class_to_idx)\n",
    "\n",
    "    # Check a batch of images and labels\n",
    "    images, labels = next(iter(train_loader))\n",
    "    print(f\"Batch image shape: {images.shape}\")\n",
    "    print(f\"Batch labels: {labels}\")\n",
    "\n",
    "    # Checking the label counts\n",
    "    label_counts = Counter(train_dataset.targets)\n",
    "    print(\"Training class distribution:\", label_counts)\n",
    "\n",
    "    label_counts = Counter(test_dataset.targets)\n",
    "    print(\"Testing class distribution:\", label_counts)  \n",
    "\n",
    "    label_counts = Counter(valid_dataset.targets)\n",
    "    print(\"Validation class distribution:\", label_counts)  \n",
    "    "
   ]
  },
  {
   "cell_type": "code",
   "execution_count": 2,
   "metadata": {},
   "outputs": [],
   "source": [
    "class BrainTumorCNN(nn.Module):\n",
    "    def __init__(self, num_classes):\n",
    "        super(BrainTumorCNN, self).__init__()\n",
    "        self.conv1 = nn.Conv2d(in_channels=3, out_channels=32, kernel_size=3, stride=1, padding=1)\n",
    "        self.conv2 = nn.Conv2d(in_channels=32, out_channels=64, kernel_size=3, stride=1, padding=1)\n",
    "        self.conv3 = nn.Conv2d(in_channels=64, out_channels=128, kernel_size=3, stride=1, padding=1)\n",
    "        self.pool = nn.MaxPool2d(kernel_size=2, stride=2, padding=0)\n",
    "        self.fc1 = nn.Linear(128 * 28 * 28, 512)\n",
    "        self.fc2 = nn.Linear(512, num_classes)\n",
    "        self.dropout = nn.Dropout(0.5)\n",
    "\n",
    "    def forward(self, x):\n",
    "        x = self.pool(F.relu(self.conv1(x)))\n",
    "        x = self.pool(F.relu(self.conv2(x)))\n",
    "        x = self.pool(F.relu(self.conv3(x)))\n",
    "        x = torch.flatten(x, start_dim=1)\n",
    "        x = F.relu(self.fc1(x))\n",
    "        x = self.dropout(x)\n",
    "        x = self.fc2(x)\n",
    "        return x\n",
    "\n",
    "# Get number of classes\n",
    "num_classes = len(train_dataset.classes)\n",
    "\n",
    "# Initialize the model\n",
    "model = BrainTumorCNN(num_classes=num_classes)\n",
    "\n",
    "# Move model to GPU if available\n",
    "device = torch.device(\"cuda\" if torch.cuda.is_available() else \"cpu\")\n",
    "model.to(device)\n",
    "\n",
    "# Define loss function and optimizer\n",
    "weights = torch.tensor([2.0, 1.0, 1.0, 1.0])\n",
    "criterion = nn.CrossEntropyLoss(weight=weights)\n",
    "optimizer = optim.Adam(model.parameters(), lr=0.001)"
   ]
  },
  {
   "cell_type": "code",
   "execution_count": 3,
   "metadata": {},
   "outputs": [
    {
     "name": "stdout",
     "output_type": "stream",
     "text": [
      "Epoch 1, Loss: 0.9467\n",
      "Epoch 2, Loss: 0.5341\n",
      "Epoch 3, Loss: 0.3772\n",
      "Epoch 4, Loss: 0.2618\n",
      "Epoch 5, Loss: 0.1766\n",
      "Epoch 6, Loss: 0.1195\n",
      "Epoch 7, Loss: 0.0879\n",
      "Epoch 8, Loss: 0.0576\n",
      "Epoch 9, Loss: 0.0431\n",
      "Epoch 10, Loss: 0.0354\n"
     ]
    }
   ],
   "source": [
    "# Training function\n",
    "def train_model(model, train_loader, criterion, optimizer, epochs=10):\n",
    "    model.train()\n",
    "    for epoch in range(epochs):\n",
    "        running_loss = 0.0\n",
    "        for images, labels in train_loader:\n",
    "            images, labels = images.to(device), labels.to(device)\n",
    "\n",
    "            optimizer.zero_grad()\n",
    "            outputs = model(images)\n",
    "            loss = criterion(outputs, labels)\n",
    "            loss.backward()\n",
    "            optimizer.step()\n",
    "\n",
    "            running_loss += loss.item()\n",
    "        \n",
    "        print(f\"Epoch {epoch+1}, Loss: {running_loss/len(train_loader):.4f}\")\n",
    "\n",
    "# Train for 10 epochs\n",
    "train_model(model, train_loader, criterion, optimizer, epochs=10)\n"
   ]
  },
  {
   "cell_type": "code",
   "execution_count": 4,
   "metadata": {},
   "outputs": [
    {
     "name": "stdout",
     "output_type": "stream",
     "text": [
      "Test Accuracy: 69.19%\n"
     ]
    }
   ],
   "source": [
    "def evaluate_model(model, test_loader):\n",
    "    model.eval()\n",
    "    correct = 0\n",
    "    total = 0\n",
    "    with torch.no_grad():\n",
    "        for images, labels in test_loader:\n",
    "            images, labels = images.to(device), labels.to(device)\n",
    "            outputs = model(images)\n",
    "            _, predicted = torch.max(outputs, 1)\n",
    "            total += labels.size(0)\n",
    "            correct += (predicted == labels).sum().item()\n",
    "\n",
    "    accuracy = 100 * correct / total\n",
    "    print(f\"Test Accuracy: {accuracy:.2f}%\")\n",
    "\n",
    "# Evaluate the model\n",
    "evaluate_model(model, test_loader)"
   ]
  },
  {
   "cell_type": "code",
   "execution_count": 5,
   "metadata": {},
   "outputs": [
    {
     "name": "stdout",
     "output_type": "stream",
     "text": [
      "Recall per class: {'Class 0': 0.18000000715255737, 'Class 1': 0.982758641242981, 'Class 2': 1.0, 'Class 3': 0.7027027010917664}\n"
     ]
    }
   ],
   "source": [
    "import torch\n",
    "\n",
    "def calculate_recall_without_sklearn(model, data_loader, num_classes):\n",
    "    model.eval()\n",
    "    true_positives = torch.zeros(num_classes)\n",
    "    false_negatives = torch.zeros(num_classes)\n",
    "    \n",
    "    with torch.no_grad():\n",
    "        for images, labels in data_loader:\n",
    "            images, labels = images.to(device), labels.to(device)\n",
    "            outputs = model(images)\n",
    "            _, predicted = torch.max(outputs, 1)\n",
    "\n",
    "            for i in range(num_classes):\n",
    "                true_positives[i] += ((predicted == i) & (labels == i)).sum().item()\n",
    "                false_negatives[i] += ((predicted != i) & (labels == i)).sum().item()\n",
    "    \n",
    "    # Compute recall per class\n",
    "    recall = true_positives / (true_positives + false_negatives)\n",
    "    recall[torch.isnan(recall)] = 0  # Handle division by zero cases\n",
    "\n",
    "    # Convert to dictionary\n",
    "    recall_dict = {f\"Class {i}\": recall[i].item() for i in range(num_classes)}\n",
    "\n",
    "    return recall_dict\n",
    "\n",
    "# Example usage:\n",
    "recall_rates = calculate_recall_without_sklearn(model, test_loader, num_classes)\n",
    "print(\"Recall per class:\", recall_rates)\n"
   ]
  },
  {
   "cell_type": "code",
   "execution_count": 6,
   "metadata": {},
   "outputs": [
    {
     "name": "stdout",
     "output_type": "stream",
     "text": [
      "\n",
      "Confusion Matrix:\n",
      "          gliom  menin  no_tu  pitui\n",
      "     gliom     9     16     23      2\n",
      "     menin     0     57      1      0\n",
      "     no_tu     0      0     27      0\n",
      "     pitui     0      6      5     26\n"
     ]
    }
   ],
   "source": [
    "def compute_confusion_matrix(model, data_loader, num_classes):\n",
    "    model.eval()\n",
    "    confusion_matrix = torch.zeros(num_classes, num_classes, dtype=torch.int64)\n",
    "\n",
    "    with torch.no_grad():\n",
    "        for images, labels in data_loader:\n",
    "            images, labels = images.to(device), labels.to(device)\n",
    "            outputs = model(images)\n",
    "            _, predicted = torch.max(outputs, 1)\n",
    "\n",
    "            for t, p in zip(labels.view(-1), predicted.view(-1)):\n",
    "                confusion_matrix[t, p] += 1  # Increment the matrix count\n",
    "\n",
    "    return confusion_matrix\n",
    "\n",
    "# Example usage:\n",
    "conf_matrix = compute_confusion_matrix(model, test_loader, num_classes)\n",
    "\n",
    "def print_confusion_matrix(conf_matrix, class_names):\n",
    "    print(\"\\nConfusion Matrix:\")\n",
    "    print(\" \" * 10, end=\"\")  # Formatting for column headers\n",
    "    print(\"  \".join(f\"{cls[:5]:>5}\" for cls in class_names))  # Print class names as column headers\n",
    "\n",
    "    for i, row in enumerate(conf_matrix):\n",
    "        print(f\"{class_names[i][:5]:>10} \", end=\"\")  # Row labels\n",
    "        print(\"  \".join(f\"{val:5}\" for val in row.tolist()))  # Print matrix row values\n",
    "\n",
    "# Example usage:\n",
    "print_confusion_matrix(conf_matrix, train_dataset.classes)"
   ]
  }
 ],
 "metadata": {
  "kernelspec": {
   "display_name": "Python 3",
   "language": "python",
   "name": "python3"
  },
  "language_info": {
   "codemirror_mode": {
    "name": "ipython",
    "version": 3
   },
   "file_extension": ".py",
   "mimetype": "text/x-python",
   "name": "python",
   "nbconvert_exporter": "python",
   "pygments_lexer": "ipython3",
   "version": "3.12.9"
  }
 },
 "nbformat": 4,
 "nbformat_minor": 2
}
