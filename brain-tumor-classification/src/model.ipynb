{
 "cells": [
  {
   "cell_type": "markdown",
   "metadata": {},
   "source": [
    "Importing necessary libraries"
   ]
  },
  {
   "cell_type": "code",
   "execution_count": 2,
   "metadata": {},
   "outputs": [
    {
     "name": "stdout",
     "output_type": "stream",
     "text": [
      "Class mapping: {'glioma_tumor': 0, 'meningioma_tumor': 1, 'no_tumor': 2, 'pituitary_tumor': 3}\n",
      "Batch image shape: torch.Size([32, 3, 224, 224])\n",
      "Batch labels: tensor([2, 1, 1, 2, 0, 1, 0, 0, 3, 0, 2, 1, 0, 3, 1, 1, 3, 1, 1, 3, 2, 0, 1, 3,\n",
      "        1, 3, 1, 1, 1, 0, 3, 1])\n",
      "Training class distribution: Counter({3: 827, 0: 826, 1: 822, 2: 395})\n",
      "Testing class distribution: Counter({1: 58, 0: 50, 3: 37, 2: 27})\n",
      "Validation class distribution: Counter({1: 57, 0: 50, 3: 37, 2: 26})\n"
     ]
    }
   ],
   "source": [
    "if __name__ == '__main__':\n",
    "    import torch\n",
    "    import torchvision\n",
    "    import torchvision.transforms as transforms\n",
    "    from torch.utils.data import DataLoader\n",
    "    from torchvision import datasets\n",
    "    from torchvision.transforms import ToTensor\n",
    "    import torch.nn as nn\n",
    "    import torch.nn.functional as F\n",
    "    import torch.optim as optim\n",
    "    import matplotlib.pyplot as plt\n",
    "    import numpy as np\n",
    "    from collections import Counter\n",
    "    \n",
    "\n",
    "     # Define transformations (resize and convert to tensor)\n",
    "    transform = transforms.Compose([\n",
    "    transforms.Resize((224, 224)),  # Resize to 224x224\n",
    "    transforms.ToTensor(),  # Convert to tensor\n",
    "    transforms.Normalize(mean=[0.5, 0.5, 0.5], std=[0.5, 0.5, 0.5])  # Normalize\n",
    "    ])\n",
    "\n",
    "    # Define dataset directories\n",
    "    train_dir = \"../data/Training\"\n",
    "    test_dir = \"../data/Testing\"\n",
    "    valid_dir = \"../data/Validation\"\n",
    "\n",
    "    # Load datasets\n",
    "    train_dataset = datasets.ImageFolder(root=train_dir, transform=transform)\n",
    "    test_dataset = datasets.ImageFolder(root=test_dir, transform=transform)\n",
    "    valid_dataset = datasets.ImageFolder(root=valid_dir, transform=transform)\n",
    "\n",
    "    # Create DataLoaders\n",
    "    train_loader = DataLoader(train_dataset, batch_size=32, shuffle=True)\n",
    "    test_loader = DataLoader(test_dataset, batch_size=32, shuffle=False)\n",
    "    valid_loader = DataLoader(valid_dataset, batch_size=32, shuffle=False)\n",
    "\n",
    "    # Print class-to-index mapping\n",
    "    print(\"Class mapping:\", train_dataset.class_to_idx)\n",
    "\n",
    "    # Check a batch of images and labels\n",
    "    images, labels = next(iter(train_loader))\n",
    "    print(f\"Batch image shape: {images.shape}\")\n",
    "    print(f\"Batch labels: {labels}\")\n",
    "\n",
    "    # Checking the label counts\n",
    "    label_counts = Counter(train_dataset.targets)\n",
    "    print(\"Training class distribution:\", label_counts)\n",
    "\n",
    "    label_counts = Counter(test_dataset.targets)\n",
    "    print(\"Testing class distribution:\", label_counts)  \n",
    "\n",
    "    label_counts = Counter(valid_dataset.targets)\n",
    "    print(\"Validation class distribution:\", label_counts)  \n",
    "    "
   ]
  },
  {
   "cell_type": "code",
   "execution_count": null,
   "metadata": {},
   "outputs": [],
   "source": []
  }
 ],
 "metadata": {
  "kernelspec": {
   "display_name": "Python 3",
   "language": "python",
   "name": "python3"
  },
  "language_info": {
   "codemirror_mode": {
    "name": "ipython",
    "version": 3
   },
   "file_extension": ".py",
   "mimetype": "text/x-python",
   "name": "python",
   "nbconvert_exporter": "python",
   "pygments_lexer": "ipython3",
   "version": "3.12.1"
  }
 },
 "nbformat": 4,
 "nbformat_minor": 2
}
