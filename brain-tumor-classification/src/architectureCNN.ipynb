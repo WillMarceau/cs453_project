{
 "cells": [
  {
   "cell_type": "code",
   "execution_count": null,
   "metadata": {},
   "outputs": [
    {
     "ename": "",
     "evalue": "",
     "output_type": "error",
     "traceback": [
      "\u001b[1;31mRunning cells with 'MRI (Python 3.12.9)' requires the ipykernel package.\n",
      "\u001b[1;31mRun the following command to install 'ipykernel' into the Python environment. \n",
      "\u001b[1;31mCommand: 'conda install -n MRI ipykernel --update-deps --force-reinstall'"
     ]
    }
   ],
   "source": [
    "import torch\n",
    "import torch.nn as nn\n",
    "import torch.nn.functional as F\n",
    "\n",
    "class CNN(nn.Module):\n",
    "    def __init__(self):\n",
    "        # this function defines the nn structure\n",
    "        super(self, CNN).__init__()\n",
    "        self.cnn_model = nn.Sequential(\n",
    "            \n",
    "            # conv layer 1\n",
    "            # 1 input as each pixel is level of gray\n",
    "            nn.Conv2d(in_channels = 1, out_channels=6, kernel_size=5),\n",
    "\n",
    "            #Relu activation, more commonly used than tanh\n",
    "            nn.ReLU(),\n",
    "\n",
    "            # pool elements\n",
    "            # might want to do kernel_size of 3\n",
    "            nn.AvgPool2d(kernel_size = 2, stride = 6),\n",
    "\n",
    "            # conv layer 2\n",
    "            nn.Conv2d(in_channel=6, out_channels=16, kernel_size = 6),\n",
    "\n",
    "             #Relu activation, more commonly used than tanh\n",
    "            nn.ReLU(),\n",
    "\n",
    "            # pool elements\n",
    "            # might want to do kernel_size of 3\n",
    "            nn.AvgPool2d(kernel_size = 2, stride = 5),\n",
    "        )\n",
    "\n",
    "        self.dense_model = nn.Sequential(\n",
    "            # adjust in_features based on performance\n",
    "            # first linear layer\n",
    "            nn.Linear(in_features=576, out_features = 128),\n",
    "            nn.ReLU(),\n",
    "            # second\n",
    "            nn.Linear(in_features=128, out_features = 64),\n",
    "            nn.ReLU(),\n",
    "            nn.Linear(in_features=64, out_features = 4),\n",
    "            # softmax is already applied for cross entropy loss \n",
    "        )\n",
    "\n",
    "    def forward(self, x):\n",
    "        # this function defines how the information goes through the nn\n",
    "\n",
    "        # send through cnn\n",
    "        x = self.cnn_model(x)\n",
    "\n",
    "        # flatten output\n",
    "        x = x.view(x.size[0], -1)\n",
    "\n",
    "        # send through dense \n",
    "        x = self.dense_model(x)\n",
    "\n",
    "        # soft max is applied for us in cross entropy loss\n",
    "\n",
    "        return x\n",
    "    \n",
    "    "
   ]
  }
 ],
 "metadata": {
  "kernelspec": {
   "display_name": "Python 3",
   "language": "python",
   "name": "python3"
  },
  "language_info": {
   "name": "python",
   "version": "3.12.9"
  }
 },
 "nbformat": 4,
 "nbformat_minor": 2
}
